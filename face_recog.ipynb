{
 "cells": [
  {
   "cell_type": "markdown",
   "id": "6652e02d",
   "metadata": {},
   "source": [
    "## Importing and installing libraries\n"
   ]
  },
  {
   "cell_type": "code",
   "execution_count": 11,
   "id": "57fc6a63",
   "metadata": {},
   "outputs": [
    {
     "name": "stdout",
     "output_type": "stream",
     "text": [
      "Defaulting to user installation because normal site-packages is not writeable\n",
      "Requirement already satisfied: opencv-python in c:\\users\\lenovo\\appdata\\roaming\\python\\python311\\site-packages (4.9.0.80)\n",
      "Requirement already satisfied: numpy>=1.21.2 in c:\\programdata\\anaconda3\\lib\\site-packages (from opencv-python) (1.24.3)\n",
      "Note: you may need to restart the kernel to use updated packages.\n"
     ]
    }
   ],
   "source": [
    "pip install opencv-python# we are using open cv for camera."
   ]
  },
  {
   "cell_type": "code",
   "execution_count": 3,
   "id": "cc1df659",
   "metadata": {},
   "outputs": [],
   "source": [
    "\n",
    "import cv2### after installing open cv we can import it to the jupyter notebook\n"
   ]
  },
  {
   "cell_type": "code",
   "execution_count": 13,
   "id": "f59c64e2",
   "metadata": {},
   "outputs": [],
   "source": [
    "import numpy as np ## importing numpy\n"
   ]
  },
  {
   "cell_type": "code",
   "execution_count": 14,
   "id": "2a80b6fc",
   "metadata": {},
   "outputs": [],
   "source": [
    "import sqlite3  ## importing sql lite\n"
   ]
  },
  {
   "cell_type": "markdown",
   "id": "0c2cdf02",
   "metadata": {},
   "source": [
    "## To Detect the face captured by the camera"
   ]
  },
  {
   "cell_type": "code",
   "execution_count": 10,
   "id": "8e1c8965",
   "metadata": {},
   "outputs": [],
   "source": [
    "face_detect=cv2.CascadeClassifier(r\"C:\\Users\\Lenovo\\Desktop\\face_recognition\\haarcascade_frontalface_default.xml\")\n",
    "cam=cv2.VideoCapture(0)# USING 0 TO ACCESS THE WEB CAM\n",
    "\n",
    "def insertorupdate(Name,Age,Id):\n",
    "    conn=sqlite3.connect(\"database.db\") # we are using sqlite to connect the database\n",
    "    cmd=\"SELECT * FROM STUDENTS WHERE ID=\"+str(Id);\n",
    "    cursor=conn.execute(cmd);# students info\n",
    "    isRecordExist=0\n",
    "    \n",
    "    for row in cursor:\n",
    "        isRecordExist=1;\n",
    "    \n",
    "    if(isRecordExist==1):\n",
    "        conn.execute(\"UPDATE STUDENTS SET NAME = ? WHERE ID = ?\", (Name, Id))\n",
    "        conn.execute(\"UPDATE STUDENTS SET AGE = ? WHERE ID = ?\", (Age, Id))\n",
    "        \n",
    "    else:\n",
    "        conn.execute(\"INSERT INTO STUDENTS(Id, Name, Age) VALUES(?, ?, ?)\", (Id, Name, Age))\n",
    "\n",
    "    conn.commit()\n",
    "    conn.close()\n",
    "        "
   ]
  },
  {
   "cell_type": "markdown",
   "id": "b8b12cad",
   "metadata": {},
   "source": [
    "##  In order to capture the webcam image we must first connect the sqlite database to the jupyter notebook using the the above commands.\n",
    " ## After connecting to the database we declare a variable isRecordExist=0 where the record is stored.\n",
    " ## We use a for loop function that checks if a record exists in a database and the variable value is set to 1 indicating that there is set of row database in it.\n",
    " ## we use then the if-else conditon to update the student table if there is a record present else to insert the values if there is no record present .\n",
    " ## Lastly we commit the changes and the connection is closed ."
   ]
  },
  {
   "cell_type": "code",
   "execution_count": null,
   "id": "55fd2e76",
   "metadata": {},
   "outputs": [],
   "source": []
  }
 ],
 "metadata": {
  "kernelspec": {
   "display_name": "Python 3 (ipykernel)",
   "language": "python",
   "name": "python3"
  },
  "language_info": {
   "codemirror_mode": {
    "name": "ipython",
    "version": 3
   },
   "file_extension": ".py",
   "mimetype": "text/x-python",
   "name": "python",
   "nbconvert_exporter": "python",
   "pygments_lexer": "ipython3",
   "version": "3.11.5"
  }
 },
 "nbformat": 4,
 "nbformat_minor": 5
}
